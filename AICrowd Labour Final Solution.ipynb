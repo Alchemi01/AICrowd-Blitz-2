{
  "nbformat": 4,
  "nbformat_minor": 0,
  "metadata": {
    "kernelspec": {
      "display_name": "Python 3",
      "language": "python",
      "name": "python3"
    },
    "language_info": {
      "codemirror_mode": {
        "name": "ipython",
        "version": 3
      },
      "file_extension": ".py",
      "mimetype": "text/x-python",
      "name": "python",
      "nbconvert_exporter": "python",
      "pygments_lexer": "ipython3",
      "version": "3.8.2"
    },
    "colab": {
      "name": "d1831da09d4c3a3d8b00db023a021d1f",
      "provenance": [],
      "toc_visible": true
    }
  },
  "cells": [
    {
      "cell_type": "markdown",
      "metadata": {
        "id": "GWKFb_zwVPCt",
        "colab_type": "text"
      },
      "source": [
        "![AIcrowd-Logo](https://raw.githubusercontent.com/AIcrowd/AIcrowd/master/app/assets/images/misc/aicrowd-horizontal.png)"
      ]
    },
    {
      "cell_type": "markdown",
      "metadata": {
        "id": "cE-BUPB-VPCu",
        "colab_type": "text"
      },
      "source": [
        "# Code for [LABOR Challenge](www.aicrowd.com/challenges/labor) on AIcrowd\n",
        "#### Author : Team BlitzCA"
      ]
    },
    {
      "cell_type": "markdown",
      "metadata": {
        "id": "bhV0SABAVPCv",
        "colab_type": "text"
      },
      "source": [
        "## Download Necessary Packages 📚"
      ]
    },
    {
      "cell_type": "code",
      "metadata": {
        "id": "3KDKy-TlVPCv",
        "colab_type": "code",
        "colab": {
          "base_uri": "https://localhost:8080/",
          "height": 507
        },
        "outputId": "bd63d173-1b5a-40e6-d6cc-9ad8a9a64dcc"
      },
      "source": [
        "!pip install numpy\n",
        "!pip install pandas\n",
        "!pip install scikit-learn\n",
        "!pip install catboost==0.22"
      ],
      "execution_count": 3,
      "outputs": [
        {
          "output_type": "stream",
          "text": [
            "Requirement already satisfied: numpy in /usr/local/lib/python3.6/dist-packages (1.18.5)\n",
            "Requirement already satisfied: pandas in /usr/local/lib/python3.6/dist-packages (1.0.5)\n",
            "Requirement already satisfied: numpy>=1.13.3 in /usr/local/lib/python3.6/dist-packages (from pandas) (1.18.5)\n",
            "Requirement already satisfied: python-dateutil>=2.6.1 in /usr/local/lib/python3.6/dist-packages (from pandas) (2.8.1)\n",
            "Requirement already satisfied: pytz>=2017.2 in /usr/local/lib/python3.6/dist-packages (from pandas) (2018.9)\n",
            "Requirement already satisfied: six>=1.5 in /usr/local/lib/python3.6/dist-packages (from python-dateutil>=2.6.1->pandas) (1.15.0)\n",
            "Requirement already satisfied: scikit-learn in /usr/local/lib/python3.6/dist-packages (0.22.2.post1)\n",
            "Requirement already satisfied: numpy>=1.11.0 in /usr/local/lib/python3.6/dist-packages (from scikit-learn) (1.18.5)\n",
            "Requirement already satisfied: joblib>=0.11 in /usr/local/lib/python3.6/dist-packages (from scikit-learn) (0.16.0)\n",
            "Requirement already satisfied: scipy>=0.17.0 in /usr/local/lib/python3.6/dist-packages (from scikit-learn) (1.4.1)\n",
            "Collecting catboost==0.22\n",
            "\u001b[?25l  Downloading https://files.pythonhosted.org/packages/94/ec/12b9a42b2ea7dfe5b602f235692ab2b61ee1334ff34334a15902272869e8/catboost-0.22-cp36-none-manylinux1_x86_64.whl (64.4MB)\n",
            "\u001b[K     |████████████████████████████████| 64.4MB 61kB/s \n",
            "\u001b[?25hRequirement already satisfied: graphviz in /usr/local/lib/python3.6/dist-packages (from catboost==0.22) (0.10.1)\n",
            "Requirement already satisfied: six in /usr/local/lib/python3.6/dist-packages (from catboost==0.22) (1.15.0)\n",
            "Requirement already satisfied: matplotlib in /usr/local/lib/python3.6/dist-packages (from catboost==0.22) (3.2.2)\n",
            "Requirement already satisfied: pandas>=0.24.0 in /usr/local/lib/python3.6/dist-packages (from catboost==0.22) (1.0.5)\n",
            "Requirement already satisfied: scipy in /usr/local/lib/python3.6/dist-packages (from catboost==0.22) (1.4.1)\n",
            "Requirement already satisfied: numpy>=1.16.0 in /usr/local/lib/python3.6/dist-packages (from catboost==0.22) (1.18.5)\n",
            "Requirement already satisfied: plotly in /usr/local/lib/python3.6/dist-packages (from catboost==0.22) (4.4.1)\n",
            "Requirement already satisfied: cycler>=0.10 in /usr/local/lib/python3.6/dist-packages (from matplotlib->catboost==0.22) (0.10.0)\n",
            "Requirement already satisfied: kiwisolver>=1.0.1 in /usr/local/lib/python3.6/dist-packages (from matplotlib->catboost==0.22) (1.2.0)\n",
            "Requirement already satisfied: python-dateutil>=2.1 in /usr/local/lib/python3.6/dist-packages (from matplotlib->catboost==0.22) (2.8.1)\n",
            "Requirement already satisfied: pyparsing!=2.0.4,!=2.1.2,!=2.1.6,>=2.0.1 in /usr/local/lib/python3.6/dist-packages (from matplotlib->catboost==0.22) (2.4.7)\n",
            "Requirement already satisfied: pytz>=2017.2 in /usr/local/lib/python3.6/dist-packages (from pandas>=0.24.0->catboost==0.22) (2018.9)\n",
            "Requirement already satisfied: retrying>=1.3.3 in /usr/local/lib/python3.6/dist-packages (from plotly->catboost==0.22) (1.3.3)\n",
            "Installing collected packages: catboost\n",
            "Successfully installed catboost-0.22\n"
          ],
          "name": "stdout"
        }
      ]
    },
    {
      "cell_type": "markdown",
      "metadata": {
        "id": "HxdgHyRSVPCz",
        "colab_type": "text"
      },
      "source": [
        "## Download Data\n",
        "The first step is to download out train test data. We will be training a model on the train data and make predictions on test data. We submit our predictions\n"
      ]
    },
    {
      "cell_type": "code",
      "metadata": {
        "id": "JRVUX3z6VPCz",
        "colab_type": "code",
        "colab": {
          "base_uri": "https://localhost:8080/",
          "height": 386
        },
        "outputId": "502d289d-4f65-413f-c6a7-c14783dc4f1e"
      },
      "source": [
        "#Donwload the datasets\n",
        "!rm -rf data\n",
        "!mkdir data \n",
        "!wget https://s3.eu-central-1.wasabisys.com/aicrowd-practice-challenges/public/labor/v0.1/test.csv\n",
        "!wget https://s3.eu-central-1.wasabisys.com/aicrowd-practice-challenges/public/labor/v0.1/train.csv\n",
        "!mv test.csv data/test.csv\n",
        "!mv train.csv data/train.csv"
      ],
      "execution_count": 4,
      "outputs": [
        {
          "output_type": "stream",
          "text": [
            "--2020-07-25 09:40:55--  https://s3.eu-central-1.wasabisys.com/aicrowd-practice-challenges/public/labor/v0.1/test.csv\n",
            "Resolving s3.eu-central-1.wasabisys.com (s3.eu-central-1.wasabisys.com)... 130.117.252.11, 130.117.252.10, 130.117.252.12, ...\n",
            "Connecting to s3.eu-central-1.wasabisys.com (s3.eu-central-1.wasabisys.com)|130.117.252.11|:443... connected.\n",
            "HTTP request sent, awaiting response... 200 OK\n",
            "Length: 554341 (541K) [text/csv]\n",
            "Saving to: ‘test.csv’\n",
            "\n",
            "test.csv            100%[===================>] 541.35K  1.15MB/s    in 0.5s    \n",
            "\n",
            "2020-07-25 09:40:56 (1.15 MB/s) - ‘test.csv’ saved [554341/554341]\n",
            "\n",
            "--2020-07-25 09:40:58--  https://s3.eu-central-1.wasabisys.com/aicrowd-practice-challenges/public/labor/v0.1/train.csv\n",
            "Resolving s3.eu-central-1.wasabisys.com (s3.eu-central-1.wasabisys.com)... 130.117.252.17, 130.117.252.10, 130.117.252.11, ...\n",
            "Connecting to s3.eu-central-1.wasabisys.com (s3.eu-central-1.wasabisys.com)|130.117.252.17|:443... connected.\n",
            "HTTP request sent, awaiting response... 200 OK\n",
            "Length: 1803530 (1.7M) [text/csv]\n",
            "Saving to: ‘train.csv’\n",
            "\n",
            "train.csv           100%[===================>]   1.72M  3.12MB/s    in 0.6s    \n",
            "\n",
            "2020-07-25 09:40:59 (3.12 MB/s) - ‘train.csv’ saved [1803530/1803530]\n",
            "\n"
          ],
          "name": "stdout"
        }
      ]
    },
    {
      "cell_type": "markdown",
      "metadata": {
        "id": "goSdQGXVVPC2",
        "colab_type": "text"
      },
      "source": [
        "\n",
        "## Import packages"
      ]
    },
    {
      "cell_type": "code",
      "metadata": {
        "id": "Cxd3KlZhVPC2",
        "colab_type": "code",
        "colab": {}
      },
      "source": [
        "import pandas as pd\n",
        "import numpy as np\n",
        "import warnings\n",
        "from sklearn.model_selection import KFold, StratifiedKFold\n",
        "from catboost import CatBoostRegressor, CatBoostClassifier\n",
        "from sklearn.metrics import f1_score, confusion_matrix\n",
        "\n",
        "warnings.filterwarnings('ignore')\n",
        "%matplotlib inline\n",
        "pd.set_option('max_column', 100)"
      ],
      "execution_count": 22,
      "outputs": []
    },
    {
      "cell_type": "markdown",
      "metadata": {
        "id": "AralOLhYVPC5",
        "colab_type": "text"
      },
      "source": [
        "## Load Data\n",
        "\n",
        "\n"
      ]
    },
    {
      "cell_type": "code",
      "metadata": {
        "id": "eacqbZ5_VPC5",
        "colab_type": "code",
        "colab": {}
      },
      "source": [
        "train_path = \"data/train.csv\" \n",
        "test_path = \"data/test.csv\""
      ],
      "execution_count": 11,
      "outputs": []
    },
    {
      "cell_type": "code",
      "metadata": {
        "id": "EaxRO75_VPC7",
        "colab_type": "code",
        "colab": {}
      },
      "source": [
        "train = pd.read_csv(train_path)\n",
        "test = pd.read_csv(test_path)"
      ],
      "execution_count": 12,
      "outputs": []
    },
    {
      "cell_type": "markdown",
      "metadata": {
        "id": "fPYLu3d9VPC-",
        "colab_type": "text"
      },
      "source": [
        "## Visualize the data 👀"
      ]
    },
    {
      "cell_type": "code",
      "metadata": {
        "id": "xUmALW0VVPC-",
        "colab_type": "code",
        "colab": {
          "base_uri": "https://localhost:8080/",
          "height": 266
        },
        "outputId": "6dbab94a-ee5a-446a-901b-221aa37119b9"
      },
      "source": [
        "train.head()"
      ],
      "execution_count": 13,
      "outputs": [
        {
          "output_type": "execute_result",
          "data": {
            "text/html": [
              "<div>\n",
              "<style scoped>\n",
              "    .dataframe tbody tr th:only-of-type {\n",
              "        vertical-align: middle;\n",
              "    }\n",
              "\n",
              "    .dataframe tbody tr th {\n",
              "        vertical-align: top;\n",
              "    }\n",
              "\n",
              "    .dataframe thead th {\n",
              "        text-align: right;\n",
              "    }\n",
              "</style>\n",
              "<table border=\"1\" class=\"dataframe\">\n",
              "  <thead>\n",
              "    <tr style=\"text-align: right;\">\n",
              "      <th></th>\n",
              "      <th>duration</th>\n",
              "      <th>wage-increase-first-year</th>\n",
              "      <th>wage-increase-second-year</th>\n",
              "      <th>wage-increase-third-year</th>\n",
              "      <th>cost-of-living-adjustment</th>\n",
              "      <th>working-hours</th>\n",
              "      <th>pension</th>\n",
              "      <th>standby-pay</th>\n",
              "      <th>shift-differential</th>\n",
              "      <th>education-allowance</th>\n",
              "      <th>statutory-holidays</th>\n",
              "      <th>vacation</th>\n",
              "      <th>longterm-disability-assistance</th>\n",
              "      <th>contribution-to-dental-plan</th>\n",
              "      <th>bereavement-assistance</th>\n",
              "      <th>contribution-to-health-plan</th>\n",
              "      <th>class</th>\n",
              "    </tr>\n",
              "  </thead>\n",
              "  <tbody>\n",
              "    <tr>\n",
              "      <th>0</th>\n",
              "      <td>3</td>\n",
              "      <td>3.597483</td>\n",
              "      <td>4.000000</td>\n",
              "      <td>5.000000</td>\n",
              "      <td>0</td>\n",
              "      <td>40.000000</td>\n",
              "      <td>2</td>\n",
              "      <td>8.32238</td>\n",
              "      <td>3.0</td>\n",
              "      <td>0</td>\n",
              "      <td>11.0</td>\n",
              "      <td>0</td>\n",
              "      <td>1</td>\n",
              "      <td>1</td>\n",
              "      <td>1</td>\n",
              "      <td>2</td>\n",
              "      <td>1</td>\n",
              "    </tr>\n",
              "    <tr>\n",
              "      <th>1</th>\n",
              "      <td>3</td>\n",
              "      <td>3.968619</td>\n",
              "      <td>4.000000</td>\n",
              "      <td>5.100000</td>\n",
              "      <td>1</td>\n",
              "      <td>40.000000</td>\n",
              "      <td>2</td>\n",
              "      <td>2.00000</td>\n",
              "      <td>3.0</td>\n",
              "      <td>0</td>\n",
              "      <td>12.0</td>\n",
              "      <td>1</td>\n",
              "      <td>1</td>\n",
              "      <td>2</td>\n",
              "      <td>1</td>\n",
              "      <td>2</td>\n",
              "      <td>1</td>\n",
              "    </tr>\n",
              "    <tr>\n",
              "      <th>2</th>\n",
              "      <td>2</td>\n",
              "      <td>6.328544</td>\n",
              "      <td>5.089680</td>\n",
              "      <td>5.000000</td>\n",
              "      <td>0</td>\n",
              "      <td>35.915468</td>\n",
              "      <td>2</td>\n",
              "      <td>2.00000</td>\n",
              "      <td>4.0</td>\n",
              "      <td>0</td>\n",
              "      <td>12.0</td>\n",
              "      <td>1</td>\n",
              "      <td>1</td>\n",
              "      <td>1</td>\n",
              "      <td>1</td>\n",
              "      <td>2</td>\n",
              "      <td>1</td>\n",
              "    </tr>\n",
              "    <tr>\n",
              "      <th>3</th>\n",
              "      <td>2</td>\n",
              "      <td>4.348288</td>\n",
              "      <td>5.336979</td>\n",
              "      <td>5.000000</td>\n",
              "      <td>0</td>\n",
              "      <td>37.651356</td>\n",
              "      <td>2</td>\n",
              "      <td>2.00000</td>\n",
              "      <td>3.0</td>\n",
              "      <td>0</td>\n",
              "      <td>15.0</td>\n",
              "      <td>1</td>\n",
              "      <td>1</td>\n",
              "      <td>2</td>\n",
              "      <td>1</td>\n",
              "      <td>2</td>\n",
              "      <td>1</td>\n",
              "    </tr>\n",
              "    <tr>\n",
              "      <th>4</th>\n",
              "      <td>2</td>\n",
              "      <td>3.530789</td>\n",
              "      <td>2.892247</td>\n",
              "      <td>2.029438</td>\n",
              "      <td>0</td>\n",
              "      <td>40.000000</td>\n",
              "      <td>2</td>\n",
              "      <td>2.00000</td>\n",
              "      <td>4.0</td>\n",
              "      <td>0</td>\n",
              "      <td>11.0</td>\n",
              "      <td>1</td>\n",
              "      <td>1</td>\n",
              "      <td>1</td>\n",
              "      <td>1</td>\n",
              "      <td>2</td>\n",
              "      <td>1</td>\n",
              "    </tr>\n",
              "  </tbody>\n",
              "</table>\n",
              "</div>"
            ],
            "text/plain": [
              "   duration  wage-increase-first-year  ...  contribution-to-health-plan  class\n",
              "0         3                  3.597483  ...                            2      1\n",
              "1         3                  3.968619  ...                            2      1\n",
              "2         2                  6.328544  ...                            2      1\n",
              "3         2                  4.348288  ...                            2      1\n",
              "4         2                  3.530789  ...                            2      1\n",
              "\n",
              "[5 rows x 17 columns]"
            ]
          },
          "metadata": {
            "tags": []
          },
          "execution_count": 13
        }
      ]
    },
    {
      "cell_type": "markdown",
      "metadata": {
        "colab_type": "text",
        "id": "VbxAsmZOY_2Q"
      },
      "source": [
        "## Create Features\n",
        "\n",
        "\n"
      ]
    },
    {
      "cell_type": "code",
      "metadata": {
        "id": "xzK1G-HFWiBh",
        "colab_type": "code",
        "colab": {}
      },
      "source": [
        "len_train = len(train)\n",
        "data = pd.concat([train, test])"
      ],
      "execution_count": 14,
      "outputs": []
    },
    {
      "cell_type": "code",
      "metadata": {
        "id": "n-xSHUEpWiWq",
        "colab_type": "code",
        "colab": {}
      },
      "source": [
        "data['duration_first_year_mean'] = data.groupby('duration')['wage-increase-first-year'].transform('mean')\n",
        "data['duration_first_year_std'] = data.groupby('duration')['wage-increase-first-year'].transform('std')\n",
        "\n",
        "data['duration_second_year_mean'] = data.groupby('duration')['wage-increase-second-year'].transform('mean')\n",
        "data['duration_second_year_std'] = data.groupby('duration')['wage-increase-second-year'].transform('std')\n",
        "\n",
        "data['duration_third_year_mean'] = data.groupby('duration')['wage-increase-third-year'].transform('mean')\n",
        "data['duration_third_year_std'] = data.groupby('duration')['wage-increase-third-year'].transform('std')\n",
        "\n",
        "data['pension_standby-pay_mean'] = data.groupby('pension')['standby-pay'].transform('mean')\n",
        "data['pension_standby-pay_std'] = data.groupby('pension')['standby-pay'].transform('std')\n",
        "\n",
        "data['pension_working-hours_mean'] = data.groupby('pension')['working-hours'].transform('mean')\n",
        "\n",
        "data['assistance'] = data['longterm-disability-assistance'] + data['bereavement-assistance']\n",
        "data['contribution_plans'] = data['contribution-to-dental-plan'] + data['contribution-to-health-plan']"
      ],
      "execution_count": 15,
      "outputs": []
    },
    {
      "cell_type": "code",
      "metadata": {
        "id": "h31aPhPzXJe1",
        "colab_type": "code",
        "colab": {}
      },
      "source": [
        "def workers(x):\n",
        "    if x >= 35.0:\n",
        "        return 'Hard_workers'\n",
        "    else:\n",
        "        return 'Lazy_workers'\n",
        "data['workers_cat'] = data['working-hours'].map(workers)"
      ],
      "execution_count": 16,
      "outputs": []
    },
    {
      "cell_type": "code",
      "metadata": {
        "id": "dfp-gw0dXJhL",
        "colab_type": "code",
        "colab": {}
      },
      "source": [
        "data = data[['bereavement-assistance', 'class', 'contribution-to-dental-plan',\n",
        "       'contribution-to-health-plan', 'cost-of-living-adjustment', 'duration',\n",
        "       'education-allowance', 'longterm-disability-assistance', 'pension',\n",
        "       'shift-differential', 'standby-pay', 'statutory-holidays', 'vacation',\n",
        "       'wage-increase-first-year', 'wage-increase-second-year',\n",
        "       'wage-increase-third-year', 'working-hours', 'duration_first_year_mean',\n",
        "       'duration_first_year_std', 'duration_second_year_mean',\n",
        "       'duration_second_year_std', 'duration_third_year_mean',\n",
        "       'duration_third_year_std', 'pension_standby-pay_mean',\n",
        "       'pension_standby-pay_std', 'pension_working-hours_mean', 'assistance',\n",
        "       'contribution_plans', 'workers_cat']]"
      ],
      "execution_count": 17,
      "outputs": []
    },
    {
      "cell_type": "code",
      "metadata": {
        "id": "ZVF-zgZsXJjm",
        "colab_type": "code",
        "colab": {}
      },
      "source": [
        "train = data[:len_train]\n",
        "test = data[len_train:]"
      ],
      "execution_count": 18,
      "outputs": []
    },
    {
      "cell_type": "code",
      "metadata": {
        "id": "TMf4TNQXXJm5",
        "colab_type": "code",
        "colab": {}
      },
      "source": [
        "X = train.drop(columns='class')\n",
        "y = train['class']\n",
        "tes = test.drop(columns='class')"
      ],
      "execution_count": 19,
      "outputs": []
    },
    {
      "cell_type": "code",
      "metadata": {
        "id": "03crq63JXJv9",
        "colab_type": "code",
        "colab": {
          "base_uri": "https://localhost:8080/",
          "height": 34
        },
        "outputId": "d874793d-18f0-460b-9f83-7271890d5536"
      },
      "source": [
        "cate_features_index = np.where(X.dtypes != float) [0]; cate_features_index"
      ],
      "execution_count": 20,
      "outputs": [
        {
          "output_type": "execute_result",
          "data": {
            "text/plain": [
              "array([ 0,  1,  2,  3,  4,  5,  6,  7, 11, 25, 26, 27])"
            ]
          },
          "metadata": {
            "tags": []
          },
          "execution_count": 20
        }
      ]
    },
    {
      "cell_type": "markdown",
      "metadata": {
        "colab_type": "text",
        "id": "agxfbWihZJ0n"
      },
      "source": [
        "## Train Model and Predict\n",
        "\n",
        "\n"
      ]
    },
    {
      "cell_type": "code",
      "metadata": {
        "id": "V0raxJl9YCRO",
        "colab_type": "code",
        "colab": {
          "base_uri": "https://localhost:8080/",
          "height": 1000
        },
        "outputId": "7fba7407-bd36-4ac1-acae-25e4ba9b4e71"
      },
      "source": [
        "err=[]\n",
        "y_pred_totcb=[]\n",
        "from lightgbm import LGBMClassifier\n",
        "\n",
        "fold=StratifiedKFold(n_splits=10, random_state=1234)\n",
        "for train_index, test_index in fold.split(X,y):\n",
        "    X_train, X_test = X.iloc[train_index], X.iloc[test_index]\n",
        "    y_train, y_test = y.iloc[train_index], y.iloc[test_index]\n",
        "    m1 = CatBoostClassifier(iterations=5000,learning_rate=0.1, random_seed=1234, eval_metric='F1')\n",
        "    m1.fit(X_train,y_train,eval_set=[(X_train,y_train),(X_test, y_test)], early_stopping_rounds=100,verbose=100, cat_features=cate_features_index)\n",
        "    preds = m1.predict(X_test)\n",
        "    print(\"err: \",np.sqrt(f1_score(y_test,preds)))\n",
        "    err.append(np.sqrt(f1_score(y_test,preds)))\n",
        "    p2 = m1.predict(tes)\n",
        "    y_pred_totcb.append(p2)\n",
        "np.mean(err)"
      ],
      "execution_count": 23,
      "outputs": [
        {
          "output_type": "stream",
          "text": [
            "0:\tlearn: 0.9272901\ttest: 0.9272901\ttest1: 0.9200574\tbest: 0.9200574 (0)\ttotal: 146ms\tremaining: 12m 11s\n",
            "100:\tlearn: 0.9776520\ttest: 0.9778107\ttest1: 0.9704198\tbest: 0.9709385 (94)\ttotal: 8.1s\tremaining: 6m 32s\n",
            "200:\tlearn: 0.9818770\ttest: 0.9817411\ttest1: 0.9718377\tbest: 0.9720697 (199)\ttotal: 16.2s\tremaining: 6m 26s\n",
            "300:\tlearn: 0.9836092\ttest: 0.9832352\ttest1: 0.9730375\tbest: 0.9732569 (250)\ttotal: 24s\tremaining: 6m 15s\n",
            "400:\tlearn: 0.9849836\ttest: 0.9845305\ttest1: 0.9735147\tbest: 0.9739919 (371)\ttotal: 32.2s\tremaining: 6m 9s\n",
            "Stopped by overfitting detector  (100 iterations wait)\n",
            "\n",
            "bestTest = 0.9739918874\n",
            "bestIteration = 371\n",
            "\n",
            "Shrink model to first 372 iterations.\n",
            "err:  0.9869102732152069\n",
            "0:\tlearn: 0.9266895\ttest: 0.9266895\ttest1: 0.9270858\tbest: 0.9270858 (0)\ttotal: 91.8ms\tremaining: 7m 39s\n",
            "100:\tlearn: 0.9773792\ttest: 0.9773696\ttest1: 0.9731144\tbest: 0.9735903 (80)\ttotal: 8.16s\tremaining: 6m 35s\n",
            "200:\tlearn: 0.9816852\ttest: 0.9810210\ttest1: 0.9762131\tbest: 0.9764454 (190)\ttotal: 16.2s\tremaining: 6m 27s\n",
            "300:\tlearn: 0.9836370\ttest: 0.9829753\ttest1: 0.9761905\tbest: 0.9769103 (207)\ttotal: 24.4s\tremaining: 6m 20s\n",
            "Stopped by overfitting detector  (100 iterations wait)\n",
            "\n",
            "bestTest = 0.9769102595\n",
            "bestIteration = 207\n",
            "\n",
            "Shrink model to first 208 iterations.\n",
            "err:  0.9883877070573232\n",
            "0:\tlearn: 0.9261884\ttest: 0.9261884\ttest1: 0.9309768\tbest: 0.9309768 (0)\ttotal: 90.9ms\tremaining: 7m 34s\n",
            "100:\tlearn: 0.9776461\ttest: 0.9776473\ttest1: 0.9759695\tbest: 0.9764678 (98)\ttotal: 8.13s\tremaining: 6m 34s\n",
            "200:\tlearn: 0.9812341\ttest: 0.9810731\ttest1: 0.9783075\tbest: 0.9785408 (196)\ttotal: 16.2s\tremaining: 6m 27s\n",
            "300:\tlearn: 0.9830041\ttest: 0.9825566\ttest1: 0.9794847\tbest: 0.9794945 (225)\ttotal: 24.3s\tremaining: 6m 20s\n",
            "400:\tlearn: 0.9850382\ttest: 0.9844040\ttest1: 0.9789876\tbest: 0.9799618 (339)\ttotal: 32.7s\tremaining: 6m 15s\n",
            "Stopped by overfitting detector  (100 iterations wait)\n",
            "\n",
            "bestTest = 0.9799618321\n",
            "bestIteration = 339\n",
            "\n",
            "Shrink model to first 340 iterations.\n",
            "err:  0.9899302157531452\n",
            "0:\tlearn: 0.9267426\ttest: 0.9267426\ttest1: 0.9262452\tbest: 0.9262452 (0)\ttotal: 94.3ms\tremaining: 7m 51s\n",
            "100:\tlearn: 0.9781292\ttest: 0.9782373\ttest1: 0.9738593\tbest: 0.9738593 (90)\ttotal: 7.93s\tremaining: 6m 24s\n",
            "200:\tlearn: 0.9812381\ttest: 0.9812421\ttest1: 0.9742735\tbest: 0.9749940 (173)\ttotal: 15.5s\tremaining: 6m 9s\n",
            "300:\tlearn: 0.9826544\ttest: 0.9826562\ttest1: 0.9735777\tbest: 0.9754937 (234)\ttotal: 23.6s\tremaining: 6m 8s\n",
            "Stopped by overfitting detector  (100 iterations wait)\n",
            "\n",
            "bestTest = 0.975493695\n",
            "bestIteration = 234\n",
            "\n",
            "Shrink model to first 235 iterations.\n",
            "err:  0.9876708434391371\n",
            "0:\tlearn: 0.9258493\ttest: 0.9258493\ttest1: 0.9345750\tbest: 0.9345750 (0)\ttotal: 91.8ms\tremaining: 7m 38s\n",
            "100:\tlearn: 0.9768303\ttest: 0.9768278\ttest1: 0.9793300\tbest: 0.9795724 (98)\ttotal: 7.72s\tremaining: 6m 14s\n",
            "200:\tlearn: 0.9802602\ttest: 0.9801563\ttest1: 0.9814286\tbest: 0.9819134 (185)\ttotal: 15.7s\tremaining: 6m 13s\n",
            "300:\tlearn: 0.9823929\ttest: 0.9818963\ttest1: 0.9821386\tbest: 0.9821471 (257)\ttotal: 23.9s\tremaining: 6m 12s\n",
            "400:\tlearn: 0.9841901\ttest: 0.9835092\ttest1: 0.9823642\tbest: 0.9833174 (386)\ttotal: 32.2s\tremaining: 6m 8s\n",
            "Stopped by overfitting detector  (100 iterations wait)\n",
            "\n",
            "bestTest = 0.9833174452\n",
            "bestIteration = 386\n",
            "\n",
            "Shrink model to first 387 iterations.\n",
            "err:  0.9916236408970347\n",
            "0:\tlearn: 0.9264214\ttest: 0.9264214\ttest1: 0.9291677\tbest: 0.9291677 (0)\ttotal: 95.8ms\tremaining: 7m 59s\n",
            "100:\tlearn: 0.9766212\ttest: 0.9769385\ttest1: 0.9723150\tbest: 0.9725864 (76)\ttotal: 7.64s\tremaining: 6m 10s\n",
            "200:\tlearn: 0.9805272\ttest: 0.9806612\ttest1: 0.9741750\tbest: 0.9744203 (173)\ttotal: 15.5s\tremaining: 6m 9s\n",
            "300:\tlearn: 0.9827092\ttest: 0.9826571\ttest1: 0.9743835\tbest: 0.9748623 (258)\ttotal: 23.5s\tremaining: 6m 7s\n",
            "Stopped by overfitting detector  (100 iterations wait)\n",
            "\n",
            "bestTest = 0.9748623414\n",
            "bestIteration = 258\n",
            "\n",
            "Shrink model to first 259 iterations.\n",
            "err:  0.987351174300889\n",
            "0:\tlearn: 0.9269899\ttest: 0.9269899\ttest1: 0.9229668\tbest: 0.9229668 (0)\ttotal: 90.9ms\tremaining: 7m 34s\n",
            "100:\tlearn: 0.9772631\ttest: 0.9773737\ttest1: 0.9728830\tbest: 0.9733587 (98)\ttotal: 7.69s\tremaining: 6m 12s\n",
            "200:\tlearn: 0.9802654\ttest: 0.9801388\ttest1: 0.9754937\tbest: 0.9757374 (197)\ttotal: 15.1s\tremaining: 6m\n",
            "Stopped by overfitting detector  (100 iterations wait)\n",
            "\n",
            "bestTest = 0.975737393\n",
            "bestIteration = 197\n",
            "\n",
            "Shrink model to first 198 iterations.\n",
            "err:  0.9877942057731897\n",
            "0:\tlearn: 0.9269393\ttest: 0.9269963\ttest1: 0.9248335\tbest: 0.9248335 (0)\ttotal: 90.9ms\tremaining: 7m 34s\n",
            "100:\tlearn: 0.9771958\ttest: 0.9773827\ttest1: 0.9733460\tbest: 0.9740785 (94)\ttotal: 7.91s\tremaining: 6m 23s\n",
            "200:\tlearn: 0.9802581\ttest: 0.9804431\ttest1: 0.9752027\tbest: 0.9754587 (144)\ttotal: 15.8s\tremaining: 6m 16s\n",
            "300:\tlearn: 0.9825725\ttest: 0.9825436\ttest1: 0.9759007\tbest: 0.9761337 (228)\ttotal: 24.1s\tremaining: 6m 15s\n",
            "Stopped by overfitting detector  (100 iterations wait)\n",
            "\n",
            "bestTest = 0.9761336516\n",
            "bestIteration = 228\n",
            "\n",
            "Shrink model to first 229 iterations.\n",
            "err:  0.9879947629169461\n",
            "0:\tlearn: 0.9268720\ttest: 0.9268720\ttest1: 0.9259790\tbest: 0.9259790 (0)\ttotal: 98.1ms\tremaining: 8m 10s\n",
            "100:\tlearn: 0.9782315\ttest: 0.9782281\ttest1: 0.9719582\tbest: 0.9726516 (90)\ttotal: 8s\tremaining: 6m 27s\n",
            "200:\tlearn: 0.9806612\ttest: 0.9807101\ttest1: 0.9738220\tbest: 0.9740785 (186)\ttotal: 15.6s\tremaining: 6m 13s\n",
            "300:\tlearn: 0.9830598\ttest: 0.9828441\ttest1: 0.9749940\tbest: 0.9752499 (244)\ttotal: 23.7s\tremaining: 6m 10s\n",
            "Stopped by overfitting detector  (100 iterations wait)\n",
            "\n",
            "bestTest = 0.975249881\n",
            "bestIteration = 244\n",
            "\n",
            "Shrink model to first 245 iterations.\n",
            "err:  0.9875474069679102\n",
            "0:\tlearn: 0.9268823\ttest: 0.9268823\ttest1: 0.9251017\tbest: 0.9251017 (0)\ttotal: 91.2ms\tremaining: 7m 36s\n",
            "100:\tlearn: 0.9777696\ttest: 0.9778424\ttest1: 0.9763328\tbest: 0.9765774 (98)\ttotal: 7.76s\tremaining: 6m 16s\n",
            "200:\tlearn: 0.9805396\ttest: 0.9804275\ttest1: 0.9779799\tbest: 0.9782140 (192)\ttotal: 15.8s\tremaining: 6m 18s\n",
            "300:\tlearn: 0.9834040\ttest: 0.9831057\ttest1: 0.9770115\tbest: 0.9784586 (266)\ttotal: 24.3s\tremaining: 6m 18s\n",
            "Stopped by overfitting detector  (100 iterations wait)\n",
            "\n",
            "bestTest = 0.9784585926\n",
            "bestIteration = 266\n",
            "\n",
            "Shrink model to first 267 iterations.\n",
            "err:  0.9891706590007873\n"
          ],
          "name": "stdout"
        },
        {
          "output_type": "execute_result",
          "data": {
            "text/plain": [
              "0.9884380889321569"
            ]
          },
          "metadata": {
            "tags": []
          },
          "execution_count": 23
        }
      ]
    },
    {
      "cell_type": "code",
      "metadata": {
        "id": "IKQOhlQRYCbX",
        "colab_type": "code",
        "colab": {}
      },
      "source": [
        "predic = np.mean(y_pred_totcb, 0)"
      ],
      "execution_count": 24,
      "outputs": []
    },
    {
      "cell_type": "code",
      "metadata": {
        "id": "yOOPaSi7YCmZ",
        "colab_type": "code",
        "colab": {}
      },
      "source": [
        "submission = pd.DataFrame(predic)"
      ],
      "execution_count": 25,
      "outputs": []
    },
    {
      "cell_type": "code",
      "metadata": {
        "id": "rtmbgUrqYo3R",
        "colab_type": "code",
        "colab": {}
      },
      "source": [
        "submission = submission.astype(int)"
      ],
      "execution_count": 26,
      "outputs": []
    },
    {
      "cell_type": "code",
      "metadata": {
        "id": "OSoquRCUYo9O",
        "colab_type": "code",
        "colab": {}
      },
      "source": [
        "submission.to_csv('best.csv', header=['class'],index=False)"
      ],
      "execution_count": 27,
      "outputs": []
    },
    {
      "cell_type": "code",
      "metadata": {
        "id": "CGk5UeaoZqPT",
        "colab_type": "code",
        "colab": {}
      },
      "source": [
        ""
      ],
      "execution_count": null,
      "outputs": []
    }
  ]
}